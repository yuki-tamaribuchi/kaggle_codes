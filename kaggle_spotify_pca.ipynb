{
  "nbformat": 4,
  "nbformat_minor": 0,
  "metadata": {
    "colab": {
      "name": "kaggle_spotify_pca.ipynb",
      "provenance": [],
      "collapsed_sections": [],
      "mount_file_id": "1uGK443OeZfM2EwVZeBNfIjRPS7XjNey_",
      "authorship_tag": "ABX9TyN90rdkILzjt9O/iMLaDE2W",
      "include_colab_link": true
    },
    "kernelspec": {
      "display_name": "Python 3",
      "name": "python3"
    }
  },
  "cells": [
    {
      "cell_type": "markdown",
      "metadata": {
        "id": "view-in-github",
        "colab_type": "text"
      },
      "source": [
        "<a href=\"https://colab.research.google.com/github/yuki-tamaribuchi/kaggle_codes/blob/master/kaggle_spotify_pca.ipynb\" target=\"_parent\"><img src=\"https://colab.research.google.com/assets/colab-badge.svg\" alt=\"Open In Colab\"/></a>"
      ]
    },
    {
      "cell_type": "code",
      "metadata": {
        "id": "ZqO9sh7KOOuA"
      },
      "source": [
        "!cp -r drive/'My Drive'/spotify_datasets/ /content/"
      ],
      "execution_count": 1,
      "outputs": []
    },
    {
      "cell_type": "code",
      "metadata": {
        "id": "pCPg7D0iOvBP"
      },
      "source": [
        "import numpy as np\n",
        "import pandas as pd\n",
        "import sklearn\n",
        "from sklearn.model_selection import train_test_split\n",
        "from sklearn.preprocessing import LabelEncoder, StandardScaler\n",
        "import matplotlib.pyplot as plt\n",
        "import seaborn as sns\n",
        "pd.options.display.float_format = '{:.10f}'.format"
      ],
      "execution_count": 2,
      "outputs": []
    },
    {
      "cell_type": "code",
      "metadata": {
        "colab": {
          "base_uri": "https://localhost:8080/"
        },
        "id": "JFmm8KTYO6Dn",
        "outputId": "4b553d81-33f7-4b80-b987-be3d60a364ba"
      },
      "source": [
        "spotify_df=pd.read_csv('spotify_datasets/genres_v2.csv')"
      ],
      "execution_count": 3,
      "outputs": [
        {
          "output_type": "stream",
          "text": [
            "/usr/local/lib/python3.6/dist-packages/IPython/core/interactiveshell.py:2718: DtypeWarning: Columns (19) have mixed types.Specify dtype option on import or set low_memory=False.\n",
            "  interactivity=interactivity, compiler=compiler, result=result)\n"
          ],
          "name": "stderr"
        }
      ]
    },
    {
      "cell_type": "code",
      "metadata": {
        "colab": {
          "base_uri": "https://localhost:8080/",
          "height": 435
        },
        "id": "vgh7WttCPCRm",
        "outputId": "1855e417-cdc7-4a58-b0bf-610c1b4706b1"
      },
      "source": [
        "spotify_df.head()"
      ],
      "execution_count": 4,
      "outputs": [
        {
          "output_type": "execute_result",
          "data": {
            "text/html": [
              "<div>\n",
              "<style scoped>\n",
              "    .dataframe tbody tr th:only-of-type {\n",
              "        vertical-align: middle;\n",
              "    }\n",
              "\n",
              "    .dataframe tbody tr th {\n",
              "        vertical-align: top;\n",
              "    }\n",
              "\n",
              "    .dataframe thead th {\n",
              "        text-align: right;\n",
              "    }\n",
              "</style>\n",
              "<table border=\"1\" class=\"dataframe\">\n",
              "  <thead>\n",
              "    <tr style=\"text-align: right;\">\n",
              "      <th></th>\n",
              "      <th>danceability</th>\n",
              "      <th>energy</th>\n",
              "      <th>key</th>\n",
              "      <th>loudness</th>\n",
              "      <th>mode</th>\n",
              "      <th>speechiness</th>\n",
              "      <th>acousticness</th>\n",
              "      <th>instrumentalness</th>\n",
              "      <th>liveness</th>\n",
              "      <th>valence</th>\n",
              "      <th>tempo</th>\n",
              "      <th>type</th>\n",
              "      <th>id</th>\n",
              "      <th>uri</th>\n",
              "      <th>track_href</th>\n",
              "      <th>analysis_url</th>\n",
              "      <th>duration_ms</th>\n",
              "      <th>time_signature</th>\n",
              "      <th>genre</th>\n",
              "      <th>song_name</th>\n",
              "      <th>Unnamed: 0</th>\n",
              "      <th>title</th>\n",
              "    </tr>\n",
              "  </thead>\n",
              "  <tbody>\n",
              "    <tr>\n",
              "      <th>0</th>\n",
              "      <td>0.8310000000</td>\n",
              "      <td>0.8140000000</td>\n",
              "      <td>2</td>\n",
              "      <td>-7.3640000000</td>\n",
              "      <td>1</td>\n",
              "      <td>0.4200000000</td>\n",
              "      <td>0.0598000000</td>\n",
              "      <td>0.0134000000</td>\n",
              "      <td>0.0556000000</td>\n",
              "      <td>0.3890000000</td>\n",
              "      <td>156.9850000000</td>\n",
              "      <td>audio_features</td>\n",
              "      <td>2Vc6NJ9PW9gD9q343XFRKx</td>\n",
              "      <td>spotify:track:2Vc6NJ9PW9gD9q343XFRKx</td>\n",
              "      <td>https://api.spotify.com/v1/tracks/2Vc6NJ9PW9gD...</td>\n",
              "      <td>https://api.spotify.com/v1/audio-analysis/2Vc6...</td>\n",
              "      <td>124539</td>\n",
              "      <td>4</td>\n",
              "      <td>Dark Trap</td>\n",
              "      <td>Mercury: Retrograde</td>\n",
              "      <td>nan</td>\n",
              "      <td>NaN</td>\n",
              "    </tr>\n",
              "    <tr>\n",
              "      <th>1</th>\n",
              "      <td>0.7190000000</td>\n",
              "      <td>0.4930000000</td>\n",
              "      <td>8</td>\n",
              "      <td>-7.2300000000</td>\n",
              "      <td>1</td>\n",
              "      <td>0.0794000000</td>\n",
              "      <td>0.4010000000</td>\n",
              "      <td>0.0000000000</td>\n",
              "      <td>0.1180000000</td>\n",
              "      <td>0.1240000000</td>\n",
              "      <td>115.0800000000</td>\n",
              "      <td>audio_features</td>\n",
              "      <td>7pgJBLVz5VmnL7uGHmRj6p</td>\n",
              "      <td>spotify:track:7pgJBLVz5VmnL7uGHmRj6p</td>\n",
              "      <td>https://api.spotify.com/v1/tracks/7pgJBLVz5Vmn...</td>\n",
              "      <td>https://api.spotify.com/v1/audio-analysis/7pgJ...</td>\n",
              "      <td>224427</td>\n",
              "      <td>4</td>\n",
              "      <td>Dark Trap</td>\n",
              "      <td>Pathology</td>\n",
              "      <td>nan</td>\n",
              "      <td>NaN</td>\n",
              "    </tr>\n",
              "    <tr>\n",
              "      <th>2</th>\n",
              "      <td>0.8500000000</td>\n",
              "      <td>0.8930000000</td>\n",
              "      <td>5</td>\n",
              "      <td>-4.7830000000</td>\n",
              "      <td>1</td>\n",
              "      <td>0.0623000000</td>\n",
              "      <td>0.0138000000</td>\n",
              "      <td>0.0000041400</td>\n",
              "      <td>0.3720000000</td>\n",
              "      <td>0.0391000000</td>\n",
              "      <td>218.0500000000</td>\n",
              "      <td>audio_features</td>\n",
              "      <td>0vSWgAlfpye0WCGeNmuNhy</td>\n",
              "      <td>spotify:track:0vSWgAlfpye0WCGeNmuNhy</td>\n",
              "      <td>https://api.spotify.com/v1/tracks/0vSWgAlfpye0...</td>\n",
              "      <td>https://api.spotify.com/v1/audio-analysis/0vSW...</td>\n",
              "      <td>98821</td>\n",
              "      <td>4</td>\n",
              "      <td>Dark Trap</td>\n",
              "      <td>Symbiote</td>\n",
              "      <td>nan</td>\n",
              "      <td>NaN</td>\n",
              "    </tr>\n",
              "    <tr>\n",
              "      <th>3</th>\n",
              "      <td>0.4760000000</td>\n",
              "      <td>0.7810000000</td>\n",
              "      <td>0</td>\n",
              "      <td>-4.7100000000</td>\n",
              "      <td>1</td>\n",
              "      <td>0.1030000000</td>\n",
              "      <td>0.0237000000</td>\n",
              "      <td>0.0000000000</td>\n",
              "      <td>0.1140000000</td>\n",
              "      <td>0.1750000000</td>\n",
              "      <td>186.9480000000</td>\n",
              "      <td>audio_features</td>\n",
              "      <td>0VSXnJqQkwuH2ei1nOQ1nu</td>\n",
              "      <td>spotify:track:0VSXnJqQkwuH2ei1nOQ1nu</td>\n",
              "      <td>https://api.spotify.com/v1/tracks/0VSXnJqQkwuH...</td>\n",
              "      <td>https://api.spotify.com/v1/audio-analysis/0VSX...</td>\n",
              "      <td>123661</td>\n",
              "      <td>3</td>\n",
              "      <td>Dark Trap</td>\n",
              "      <td>ProductOfDrugs (Prod. The Virus and Antidote)</td>\n",
              "      <td>nan</td>\n",
              "      <td>NaN</td>\n",
              "    </tr>\n",
              "    <tr>\n",
              "      <th>4</th>\n",
              "      <td>0.7980000000</td>\n",
              "      <td>0.6240000000</td>\n",
              "      <td>2</td>\n",
              "      <td>-7.6680000000</td>\n",
              "      <td>1</td>\n",
              "      <td>0.2930000000</td>\n",
              "      <td>0.2170000000</td>\n",
              "      <td>0.0000000000</td>\n",
              "      <td>0.1660000000</td>\n",
              "      <td>0.5910000000</td>\n",
              "      <td>147.9880000000</td>\n",
              "      <td>audio_features</td>\n",
              "      <td>4jCeguq9rMTlbMmPHuO7S3</td>\n",
              "      <td>spotify:track:4jCeguq9rMTlbMmPHuO7S3</td>\n",
              "      <td>https://api.spotify.com/v1/tracks/4jCeguq9rMTl...</td>\n",
              "      <td>https://api.spotify.com/v1/audio-analysis/4jCe...</td>\n",
              "      <td>123298</td>\n",
              "      <td>4</td>\n",
              "      <td>Dark Trap</td>\n",
              "      <td>Venom</td>\n",
              "      <td>nan</td>\n",
              "      <td>NaN</td>\n",
              "    </tr>\n",
              "  </tbody>\n",
              "</table>\n",
              "</div>"
            ],
            "text/plain": [
              "   danceability       energy  ...  Unnamed: 0  title\n",
              "0  0.8310000000 0.8140000000  ...         nan    NaN\n",
              "1  0.7190000000 0.4930000000  ...         nan    NaN\n",
              "2  0.8500000000 0.8930000000  ...         nan    NaN\n",
              "3  0.4760000000 0.7810000000  ...         nan    NaN\n",
              "4  0.7980000000 0.6240000000  ...         nan    NaN\n",
              "\n",
              "[5 rows x 22 columns]"
            ]
          },
          "metadata": {
            "tags": []
          },
          "execution_count": 4
        }
      ]
    },
    {
      "cell_type": "code",
      "metadata": {
        "colab": {
          "base_uri": "https://localhost:8080/"
        },
        "id": "1ITPsu8sVrpA",
        "outputId": "e6b8dc64-c8ec-47a7-8e00-622e8f78340b"
      },
      "source": [
        "spotify_df.info()"
      ],
      "execution_count": 5,
      "outputs": [
        {
          "output_type": "stream",
          "text": [
            "<class 'pandas.core.frame.DataFrame'>\n",
            "RangeIndex: 42305 entries, 0 to 42304\n",
            "Data columns (total 22 columns):\n",
            " #   Column            Non-Null Count  Dtype  \n",
            "---  ------            --------------  -----  \n",
            " 0   danceability      42305 non-null  float64\n",
            " 1   energy            42305 non-null  float64\n",
            " 2   key               42305 non-null  int64  \n",
            " 3   loudness          42305 non-null  float64\n",
            " 4   mode              42305 non-null  int64  \n",
            " 5   speechiness       42305 non-null  float64\n",
            " 6   acousticness      42305 non-null  float64\n",
            " 7   instrumentalness  42305 non-null  float64\n",
            " 8   liveness          42305 non-null  float64\n",
            " 9   valence           42305 non-null  float64\n",
            " 10  tempo             42305 non-null  float64\n",
            " 11  type              42305 non-null  object \n",
            " 12  id                42305 non-null  object \n",
            " 13  uri               42305 non-null  object \n",
            " 14  track_href        42305 non-null  object \n",
            " 15  analysis_url      42305 non-null  object \n",
            " 16  duration_ms       42305 non-null  int64  \n",
            " 17  time_signature    42305 non-null  int64  \n",
            " 18  genre             42305 non-null  object \n",
            " 19  song_name         21519 non-null  object \n",
            " 20  Unnamed: 0        20780 non-null  float64\n",
            " 21  title             20780 non-null  object \n",
            "dtypes: float64(10), int64(4), object(8)\n",
            "memory usage: 7.1+ MB\n"
          ],
          "name": "stdout"
        }
      ]
    },
    {
      "cell_type": "code",
      "metadata": {
        "id": "MdH0UXGnV_Wh"
      },
      "source": [
        "spotify_df=spotify_df.drop(['song_name','Unnamed: 0','title','uri','track_href','analysis_url','type','id'],axis=1)"
      ],
      "execution_count": 6,
      "outputs": []
    },
    {
      "cell_type": "code",
      "metadata": {
        "colab": {
          "base_uri": "https://localhost:8080/"
        },
        "id": "PD5U5FrWW4wm",
        "outputId": "aaaf2e7b-a551-401e-e7a8-3533a6cb009a"
      },
      "source": [
        "spotify_df.info()"
      ],
      "execution_count": 7,
      "outputs": [
        {
          "output_type": "stream",
          "text": [
            "<class 'pandas.core.frame.DataFrame'>\n",
            "RangeIndex: 42305 entries, 0 to 42304\n",
            "Data columns (total 14 columns):\n",
            " #   Column            Non-Null Count  Dtype  \n",
            "---  ------            --------------  -----  \n",
            " 0   danceability      42305 non-null  float64\n",
            " 1   energy            42305 non-null  float64\n",
            " 2   key               42305 non-null  int64  \n",
            " 3   loudness          42305 non-null  float64\n",
            " 4   mode              42305 non-null  int64  \n",
            " 5   speechiness       42305 non-null  float64\n",
            " 6   acousticness      42305 non-null  float64\n",
            " 7   instrumentalness  42305 non-null  float64\n",
            " 8   liveness          42305 non-null  float64\n",
            " 9   valence           42305 non-null  float64\n",
            " 10  tempo             42305 non-null  float64\n",
            " 11  duration_ms       42305 non-null  int64  \n",
            " 12  time_signature    42305 non-null  int64  \n",
            " 13  genre             42305 non-null  object \n",
            "dtypes: float64(9), int64(4), object(1)\n",
            "memory usage: 4.5+ MB\n"
          ],
          "name": "stdout"
        }
      ]
    },
    {
      "cell_type": "code",
      "metadata": {
        "id": "YHfpDnaMXmvj"
      },
      "source": [
        "time_signature_dummies=pd.get_dummies(spotify_df['time_signature'],prefix='time_signature')\n",
        "\n",
        "le_genre=LabelEncoder()\n",
        "genre_labels=pd.DataFrame(le_genre.fit_transform(spotify_df['genre']))\n",
        "\n",
        "spotify_df=spotify_df.drop(['key','time_signature','genre','mode'],axis=1)\n",
        "#spotify_df=pd.concat([spotify_df,time_signature_dummies],axis=1)\n",
        "\n",
        "scaler=StandardScaler()\n",
        "scaled_spotify_df=pd.DataFrame(scaler.fit_transform(spotify_df))"
      ],
      "execution_count": 8,
      "outputs": []
    },
    {
      "cell_type": "code",
      "metadata": {
        "colab": {
          "base_uri": "https://localhost:8080/",
          "height": 424
        },
        "id": "neadZUqVZLab",
        "outputId": "7ab8ba4c-b4a3-4b73-a088-934aa54dcdb9"
      },
      "source": [
        "spotify_df"
      ],
      "execution_count": 9,
      "outputs": [
        {
          "output_type": "execute_result",
          "data": {
            "text/html": [
              "<div>\n",
              "<style scoped>\n",
              "    .dataframe tbody tr th:only-of-type {\n",
              "        vertical-align: middle;\n",
              "    }\n",
              "\n",
              "    .dataframe tbody tr th {\n",
              "        vertical-align: top;\n",
              "    }\n",
              "\n",
              "    .dataframe thead th {\n",
              "        text-align: right;\n",
              "    }\n",
              "</style>\n",
              "<table border=\"1\" class=\"dataframe\">\n",
              "  <thead>\n",
              "    <tr style=\"text-align: right;\">\n",
              "      <th></th>\n",
              "      <th>danceability</th>\n",
              "      <th>energy</th>\n",
              "      <th>loudness</th>\n",
              "      <th>speechiness</th>\n",
              "      <th>acousticness</th>\n",
              "      <th>instrumentalness</th>\n",
              "      <th>liveness</th>\n",
              "      <th>valence</th>\n",
              "      <th>tempo</th>\n",
              "      <th>duration_ms</th>\n",
              "    </tr>\n",
              "  </thead>\n",
              "  <tbody>\n",
              "    <tr>\n",
              "      <th>0</th>\n",
              "      <td>0.8310000000</td>\n",
              "      <td>0.8140000000</td>\n",
              "      <td>-7.3640000000</td>\n",
              "      <td>0.4200000000</td>\n",
              "      <td>0.0598000000</td>\n",
              "      <td>0.0134000000</td>\n",
              "      <td>0.0556000000</td>\n",
              "      <td>0.3890000000</td>\n",
              "      <td>156.9850000000</td>\n",
              "      <td>124539</td>\n",
              "    </tr>\n",
              "    <tr>\n",
              "      <th>1</th>\n",
              "      <td>0.7190000000</td>\n",
              "      <td>0.4930000000</td>\n",
              "      <td>-7.2300000000</td>\n",
              "      <td>0.0794000000</td>\n",
              "      <td>0.4010000000</td>\n",
              "      <td>0.0000000000</td>\n",
              "      <td>0.1180000000</td>\n",
              "      <td>0.1240000000</td>\n",
              "      <td>115.0800000000</td>\n",
              "      <td>224427</td>\n",
              "    </tr>\n",
              "    <tr>\n",
              "      <th>2</th>\n",
              "      <td>0.8500000000</td>\n",
              "      <td>0.8930000000</td>\n",
              "      <td>-4.7830000000</td>\n",
              "      <td>0.0623000000</td>\n",
              "      <td>0.0138000000</td>\n",
              "      <td>0.0000041400</td>\n",
              "      <td>0.3720000000</td>\n",
              "      <td>0.0391000000</td>\n",
              "      <td>218.0500000000</td>\n",
              "      <td>98821</td>\n",
              "    </tr>\n",
              "    <tr>\n",
              "      <th>3</th>\n",
              "      <td>0.4760000000</td>\n",
              "      <td>0.7810000000</td>\n",
              "      <td>-4.7100000000</td>\n",
              "      <td>0.1030000000</td>\n",
              "      <td>0.0237000000</td>\n",
              "      <td>0.0000000000</td>\n",
              "      <td>0.1140000000</td>\n",
              "      <td>0.1750000000</td>\n",
              "      <td>186.9480000000</td>\n",
              "      <td>123661</td>\n",
              "    </tr>\n",
              "    <tr>\n",
              "      <th>4</th>\n",
              "      <td>0.7980000000</td>\n",
              "      <td>0.6240000000</td>\n",
              "      <td>-7.6680000000</td>\n",
              "      <td>0.2930000000</td>\n",
              "      <td>0.2170000000</td>\n",
              "      <td>0.0000000000</td>\n",
              "      <td>0.1660000000</td>\n",
              "      <td>0.5910000000</td>\n",
              "      <td>147.9880000000</td>\n",
              "      <td>123298</td>\n",
              "    </tr>\n",
              "    <tr>\n",
              "      <th>...</th>\n",
              "      <td>...</td>\n",
              "      <td>...</td>\n",
              "      <td>...</td>\n",
              "      <td>...</td>\n",
              "      <td>...</td>\n",
              "      <td>...</td>\n",
              "      <td>...</td>\n",
              "      <td>...</td>\n",
              "      <td>...</td>\n",
              "      <td>...</td>\n",
              "    </tr>\n",
              "    <tr>\n",
              "      <th>42300</th>\n",
              "      <td>0.5280000000</td>\n",
              "      <td>0.6930000000</td>\n",
              "      <td>-5.1480000000</td>\n",
              "      <td>0.0304000000</td>\n",
              "      <td>0.0315000000</td>\n",
              "      <td>0.0003450000</td>\n",
              "      <td>0.1210000000</td>\n",
              "      <td>0.3940000000</td>\n",
              "      <td>150.0130000000</td>\n",
              "      <td>269208</td>\n",
              "    </tr>\n",
              "    <tr>\n",
              "      <th>42301</th>\n",
              "      <td>0.5170000000</td>\n",
              "      <td>0.7680000000</td>\n",
              "      <td>-7.9220000000</td>\n",
              "      <td>0.0479000000</td>\n",
              "      <td>0.0225000000</td>\n",
              "      <td>0.0000182000</td>\n",
              "      <td>0.2050000000</td>\n",
              "      <td>0.3830000000</td>\n",
              "      <td>149.9280000000</td>\n",
              "      <td>210112</td>\n",
              "    </tr>\n",
              "    <tr>\n",
              "      <th>42302</th>\n",
              "      <td>0.3610000000</td>\n",
              "      <td>0.8210000000</td>\n",
              "      <td>-3.1020000000</td>\n",
              "      <td>0.0505000000</td>\n",
              "      <td>0.0260000000</td>\n",
              "      <td>0.0002420000</td>\n",
              "      <td>0.3850000000</td>\n",
              "      <td>0.1240000000</td>\n",
              "      <td>154.9350000000</td>\n",
              "      <td>234823</td>\n",
              "    </tr>\n",
              "    <tr>\n",
              "      <th>42303</th>\n",
              "      <td>0.4770000000</td>\n",
              "      <td>0.9210000000</td>\n",
              "      <td>-4.7770000000</td>\n",
              "      <td>0.0392000000</td>\n",
              "      <td>0.0005510000</td>\n",
              "      <td>0.0296000000</td>\n",
              "      <td>0.0575000000</td>\n",
              "      <td>0.4880000000</td>\n",
              "      <td>150.0420000000</td>\n",
              "      <td>323200</td>\n",
              "    </tr>\n",
              "    <tr>\n",
              "      <th>42304</th>\n",
              "      <td>0.5290000000</td>\n",
              "      <td>0.9450000000</td>\n",
              "      <td>-5.8620000000</td>\n",
              "      <td>0.0615000000</td>\n",
              "      <td>0.0018900000</td>\n",
              "      <td>0.0000545000</td>\n",
              "      <td>0.4140000000</td>\n",
              "      <td>0.1340000000</td>\n",
              "      <td>155.0470000000</td>\n",
              "      <td>162161</td>\n",
              "    </tr>\n",
              "  </tbody>\n",
              "</table>\n",
              "<p>42305 rows × 10 columns</p>\n",
              "</div>"
            ],
            "text/plain": [
              "       danceability       energy  ...          tempo  duration_ms\n",
              "0      0.8310000000 0.8140000000  ... 156.9850000000       124539\n",
              "1      0.7190000000 0.4930000000  ... 115.0800000000       224427\n",
              "2      0.8500000000 0.8930000000  ... 218.0500000000        98821\n",
              "3      0.4760000000 0.7810000000  ... 186.9480000000       123661\n",
              "4      0.7980000000 0.6240000000  ... 147.9880000000       123298\n",
              "...             ...          ...  ...            ...          ...\n",
              "42300  0.5280000000 0.6930000000  ... 150.0130000000       269208\n",
              "42301  0.5170000000 0.7680000000  ... 149.9280000000       210112\n",
              "42302  0.3610000000 0.8210000000  ... 154.9350000000       234823\n",
              "42303  0.4770000000 0.9210000000  ... 150.0420000000       323200\n",
              "42304  0.5290000000 0.9450000000  ... 155.0470000000       162161\n",
              "\n",
              "[42305 rows x 10 columns]"
            ]
          },
          "metadata": {
            "tags": []
          },
          "execution_count": 9
        }
      ]
    },
    {
      "cell_type": "code",
      "metadata": {
        "colab": {
          "base_uri": "https://localhost:8080/",
          "height": 424
        },
        "id": "ZkopWdz_deEd",
        "outputId": "3ecd9537-e8e3-4814-b4c2-a5f8bc481643"
      },
      "source": [
        "genre_labels"
      ],
      "execution_count": 10,
      "outputs": [
        {
          "output_type": "execute_result",
          "data": {
            "text/html": [
              "<div>\n",
              "<style scoped>\n",
              "    .dataframe tbody tr th:only-of-type {\n",
              "        vertical-align: middle;\n",
              "    }\n",
              "\n",
              "    .dataframe tbody tr th {\n",
              "        vertical-align: top;\n",
              "    }\n",
              "\n",
              "    .dataframe thead th {\n",
              "        text-align: right;\n",
              "    }\n",
              "</style>\n",
              "<table border=\"1\" class=\"dataframe\">\n",
              "  <thead>\n",
              "    <tr style=\"text-align: right;\">\n",
              "      <th></th>\n",
              "      <th>0</th>\n",
              "    </tr>\n",
              "  </thead>\n",
              "  <tbody>\n",
              "    <tr>\n",
              "      <th>0</th>\n",
              "      <td>0</td>\n",
              "    </tr>\n",
              "    <tr>\n",
              "      <th>1</th>\n",
              "      <td>0</td>\n",
              "    </tr>\n",
              "    <tr>\n",
              "      <th>2</th>\n",
              "      <td>0</td>\n",
              "    </tr>\n",
              "    <tr>\n",
              "      <th>3</th>\n",
              "      <td>0</td>\n",
              "    </tr>\n",
              "    <tr>\n",
              "      <th>4</th>\n",
              "      <td>0</td>\n",
              "    </tr>\n",
              "    <tr>\n",
              "      <th>...</th>\n",
              "      <td>...</td>\n",
              "    </tr>\n",
              "    <tr>\n",
              "      <th>42300</th>\n",
              "      <td>9</td>\n",
              "    </tr>\n",
              "    <tr>\n",
              "      <th>42301</th>\n",
              "      <td>9</td>\n",
              "    </tr>\n",
              "    <tr>\n",
              "      <th>42302</th>\n",
              "      <td>9</td>\n",
              "    </tr>\n",
              "    <tr>\n",
              "      <th>42303</th>\n",
              "      <td>9</td>\n",
              "    </tr>\n",
              "    <tr>\n",
              "      <th>42304</th>\n",
              "      <td>9</td>\n",
              "    </tr>\n",
              "  </tbody>\n",
              "</table>\n",
              "<p>42305 rows × 1 columns</p>\n",
              "</div>"
            ],
            "text/plain": [
              "       0\n",
              "0      0\n",
              "1      0\n",
              "2      0\n",
              "3      0\n",
              "4      0\n",
              "...   ..\n",
              "42300  9\n",
              "42301  9\n",
              "42302  9\n",
              "42303  9\n",
              "42304  9\n",
              "\n",
              "[42305 rows x 1 columns]"
            ]
          },
          "metadata": {
            "tags": []
          },
          "execution_count": 10
        }
      ]
    },
    {
      "cell_type": "code",
      "metadata": {
        "id": "McPZ32sxh6ZM"
      },
      "source": [
        "from sklearn.decomposition import PCA\n",
        "import seaborn as sns\n",
        "import matplotlib.ticker as ticker"
      ],
      "execution_count": 11,
      "outputs": []
    },
    {
      "cell_type": "code",
      "metadata": {
        "id": "vXDkCpuLlTkS"
      },
      "source": [
        "pca=PCA()\n",
        "spotify_features_df=pd.DataFrame(pca.fit_transform(scaled_spotify_df),columns=['PC{}'.format(x+1) for x in range(len(scaled_spotify_df.columns))])"
      ],
      "execution_count": 12,
      "outputs": []
    },
    {
      "cell_type": "code",
      "metadata": {
        "colab": {
          "base_uri": "https://localhost:8080/",
          "height": 206
        },
        "id": "30N-05sMliby",
        "outputId": "ef615af0-4a50-4743-b64b-6fb40865d5db"
      },
      "source": [
        "spotify_features_df.head()"
      ],
      "execution_count": 13,
      "outputs": [
        {
          "output_type": "execute_result",
          "data": {
            "text/html": [
              "<div>\n",
              "<style scoped>\n",
              "    .dataframe tbody tr th:only-of-type {\n",
              "        vertical-align: middle;\n",
              "    }\n",
              "\n",
              "    .dataframe tbody tr th {\n",
              "        vertical-align: top;\n",
              "    }\n",
              "\n",
              "    .dataframe thead th {\n",
              "        text-align: right;\n",
              "    }\n",
              "</style>\n",
              "<table border=\"1\" class=\"dataframe\">\n",
              "  <thead>\n",
              "    <tr style=\"text-align: right;\">\n",
              "      <th></th>\n",
              "      <th>PC1</th>\n",
              "      <th>PC2</th>\n",
              "      <th>PC3</th>\n",
              "      <th>PC4</th>\n",
              "      <th>PC5</th>\n",
              "      <th>PC6</th>\n",
              "      <th>PC7</th>\n",
              "      <th>PC8</th>\n",
              "      <th>PC9</th>\n",
              "      <th>PC10</th>\n",
              "    </tr>\n",
              "  </thead>\n",
              "  <tbody>\n",
              "    <tr>\n",
              "      <th>0</th>\n",
              "      <td>1.9204736959</td>\n",
              "      <td>-0.7339096574</td>\n",
              "      <td>-0.9234933524</td>\n",
              "      <td>-0.4348248873</td>\n",
              "      <td>0.2007023042</td>\n",
              "      <td>1.8141390103</td>\n",
              "      <td>0.3183451653</td>\n",
              "      <td>0.2587151395</td>\n",
              "      <td>-0.6501857686</td>\n",
              "      <td>0.7727139297</td>\n",
              "    </tr>\n",
              "    <tr>\n",
              "      <th>1</th>\n",
              "      <td>1.4717500299</td>\n",
              "      <td>1.5908263824</td>\n",
              "      <td>0.8368300268</td>\n",
              "      <td>0.4410737962</td>\n",
              "      <td>-1.5201338212</td>\n",
              "      <td>-0.2156359150</td>\n",
              "      <td>0.5514441758</td>\n",
              "      <td>-1.1432458193</td>\n",
              "      <td>0.2706267543</td>\n",
              "      <td>-0.1592022693</td>\n",
              "    </tr>\n",
              "    <tr>\n",
              "      <th>2</th>\n",
              "      <td>0.3587063240</td>\n",
              "      <td>-1.8307160765</td>\n",
              "      <td>0.9245803695</td>\n",
              "      <td>-0.8357426852</td>\n",
              "      <td>1.0125090818</td>\n",
              "      <td>0.3785656250</td>\n",
              "      <td>-2.2230501078</td>\n",
              "      <td>-1.8069805798</td>\n",
              "      <td>-1.2324348959</td>\n",
              "      <td>1.2181047438</td>\n",
              "    </tr>\n",
              "    <tr>\n",
              "      <th>3</th>\n",
              "      <td>0.2203124688</td>\n",
              "      <td>-1.4589309546</td>\n",
              "      <td>1.5545315594</td>\n",
              "      <td>-1.4383367009</td>\n",
              "      <td>-0.2183001653</td>\n",
              "      <td>0.2823234203</td>\n",
              "      <td>-0.7767982402</td>\n",
              "      <td>0.1313451044</td>\n",
              "      <td>-0.2498445391</td>\n",
              "      <td>0.1296467610</td>\n",
              "    </tr>\n",
              "    <tr>\n",
              "      <th>4</th>\n",
              "      <td>2.4789520407</td>\n",
              "      <td>-0.1718466412</td>\n",
              "      <td>-0.7109694449</td>\n",
              "      <td>0.1924491054</td>\n",
              "      <td>0.0320726836</td>\n",
              "      <td>0.2089607911</td>\n",
              "      <td>0.1173900591</td>\n",
              "      <td>0.2368405788</td>\n",
              "      <td>-0.4026204817</td>\n",
              "      <td>0.0659957183</td>\n",
              "    </tr>\n",
              "  </tbody>\n",
              "</table>\n",
              "</div>"
            ],
            "text/plain": [
              "           PC1           PC2  ...           PC9          PC10\n",
              "0 1.9204736959 -0.7339096574  ... -0.6501857686  0.7727139297\n",
              "1 1.4717500299  1.5908263824  ...  0.2706267543 -0.1592022693\n",
              "2 0.3587063240 -1.8307160765  ... -1.2324348959  1.2181047438\n",
              "3 0.2203124688 -1.4589309546  ... -0.2498445391  0.1296467610\n",
              "4 2.4789520407 -0.1718466412  ... -0.4026204817  0.0659957183\n",
              "\n",
              "[5 rows x 10 columns]"
            ]
          },
          "metadata": {
            "tags": []
          },
          "execution_count": 13
        }
      ]
    },
    {
      "cell_type": "code",
      "metadata": {
        "colab": {
          "base_uri": "https://localhost:8080/",
          "height": 363
        },
        "id": "69kBFnN7mdXt",
        "outputId": "19131b3a-fa51-432c-d3a3-cfbecf8a4985"
      },
      "source": [
        "pd.DataFrame(pca.explained_variance_ratio_)"
      ],
      "execution_count": 14,
      "outputs": [
        {
          "output_type": "execute_result",
          "data": {
            "text/html": [
              "<div>\n",
              "<style scoped>\n",
              "    .dataframe tbody tr th:only-of-type {\n",
              "        vertical-align: middle;\n",
              "    }\n",
              "\n",
              "    .dataframe tbody tr th {\n",
              "        vertical-align: top;\n",
              "    }\n",
              "\n",
              "    .dataframe thead th {\n",
              "        text-align: right;\n",
              "    }\n",
              "</style>\n",
              "<table border=\"1\" class=\"dataframe\">\n",
              "  <thead>\n",
              "    <tr style=\"text-align: right;\">\n",
              "      <th></th>\n",
              "      <th>0</th>\n",
              "    </tr>\n",
              "  </thead>\n",
              "  <tbody>\n",
              "    <tr>\n",
              "      <th>0</th>\n",
              "      <td>0.2590906743</td>\n",
              "    </tr>\n",
              "    <tr>\n",
              "      <th>1</th>\n",
              "      <td>0.1919809684</td>\n",
              "    </tr>\n",
              "    <tr>\n",
              "      <th>2</th>\n",
              "      <td>0.1289495181</td>\n",
              "    </tr>\n",
              "    <tr>\n",
              "      <th>3</th>\n",
              "      <td>0.0930547373</td>\n",
              "    </tr>\n",
              "    <tr>\n",
              "      <th>4</th>\n",
              "      <td>0.0845363357</td>\n",
              "    </tr>\n",
              "    <tr>\n",
              "      <th>5</th>\n",
              "      <td>0.0728208880</td>\n",
              "    </tr>\n",
              "    <tr>\n",
              "      <th>6</th>\n",
              "      <td>0.0633993168</td>\n",
              "    </tr>\n",
              "    <tr>\n",
              "      <th>7</th>\n",
              "      <td>0.0466201338</td>\n",
              "    </tr>\n",
              "    <tr>\n",
              "      <th>8</th>\n",
              "      <td>0.0388810547</td>\n",
              "    </tr>\n",
              "    <tr>\n",
              "      <th>9</th>\n",
              "      <td>0.0206663728</td>\n",
              "    </tr>\n",
              "  </tbody>\n",
              "</table>\n",
              "</div>"
            ],
            "text/plain": [
              "             0\n",
              "0 0.2590906743\n",
              "1 0.1919809684\n",
              "2 0.1289495181\n",
              "3 0.0930547373\n",
              "4 0.0845363357\n",
              "5 0.0728208880\n",
              "6 0.0633993168\n",
              "7 0.0466201338\n",
              "8 0.0388810547\n",
              "9 0.0206663728"
            ]
          },
          "metadata": {
            "tags": []
          },
          "execution_count": 14
        }
      ]
    },
    {
      "cell_type": "code",
      "metadata": {
        "colab": {
          "base_uri": "https://localhost:8080/",
          "height": 363
        },
        "id": "WW2nzau0mWY1",
        "outputId": "84068ef5-2d35-423f-ab1f-f42230991e03"
      },
      "source": [
        "pd.DataFrame(np.cumsum(pca.explained_variance_ratio_))"
      ],
      "execution_count": 15,
      "outputs": [
        {
          "output_type": "execute_result",
          "data": {
            "text/html": [
              "<div>\n",
              "<style scoped>\n",
              "    .dataframe tbody tr th:only-of-type {\n",
              "        vertical-align: middle;\n",
              "    }\n",
              "\n",
              "    .dataframe tbody tr th {\n",
              "        vertical-align: top;\n",
              "    }\n",
              "\n",
              "    .dataframe thead th {\n",
              "        text-align: right;\n",
              "    }\n",
              "</style>\n",
              "<table border=\"1\" class=\"dataframe\">\n",
              "  <thead>\n",
              "    <tr style=\"text-align: right;\">\n",
              "      <th></th>\n",
              "      <th>0</th>\n",
              "    </tr>\n",
              "  </thead>\n",
              "  <tbody>\n",
              "    <tr>\n",
              "      <th>0</th>\n",
              "      <td>0.2590906743</td>\n",
              "    </tr>\n",
              "    <tr>\n",
              "      <th>1</th>\n",
              "      <td>0.4510716428</td>\n",
              "    </tr>\n",
              "    <tr>\n",
              "      <th>2</th>\n",
              "      <td>0.5800211609</td>\n",
              "    </tr>\n",
              "    <tr>\n",
              "      <th>3</th>\n",
              "      <td>0.6730758982</td>\n",
              "    </tr>\n",
              "    <tr>\n",
              "      <th>4</th>\n",
              "      <td>0.7576122339</td>\n",
              "    </tr>\n",
              "    <tr>\n",
              "      <th>5</th>\n",
              "      <td>0.8304331219</td>\n",
              "    </tr>\n",
              "    <tr>\n",
              "      <th>6</th>\n",
              "      <td>0.8938324387</td>\n",
              "    </tr>\n",
              "    <tr>\n",
              "      <th>7</th>\n",
              "      <td>0.9404525725</td>\n",
              "    </tr>\n",
              "    <tr>\n",
              "      <th>8</th>\n",
              "      <td>0.9793336272</td>\n",
              "    </tr>\n",
              "    <tr>\n",
              "      <th>9</th>\n",
              "      <td>1.0000000000</td>\n",
              "    </tr>\n",
              "  </tbody>\n",
              "</table>\n",
              "</div>"
            ],
            "text/plain": [
              "             0\n",
              "0 0.2590906743\n",
              "1 0.4510716428\n",
              "2 0.5800211609\n",
              "3 0.6730758982\n",
              "4 0.7576122339\n",
              "5 0.8304331219\n",
              "6 0.8938324387\n",
              "7 0.9404525725\n",
              "8 0.9793336272\n",
              "9 1.0000000000"
            ]
          },
          "metadata": {
            "tags": []
          },
          "execution_count": 15
        }
      ]
    },
    {
      "cell_type": "code",
      "metadata": {
        "colab": {
          "base_uri": "https://localhost:8080/",
          "height": 298
        },
        "id": "Rp4UkGw_nIll",
        "outputId": "7c2c1a5b-f709-4764-ca42-66030cce3b18"
      },
      "source": [
        "plt.gca().get_xaxis().set_major_locator(ticker.MaxNLocator(integer=True))\n",
        "plt.plot([0]+list(np.cumsum(pca.explained_variance_ratio_)),'-o')\n",
        "plt.xlabel('Number of principal components')\n",
        "plt.ylabel('Cumulative contribution rate')\n",
        "plt.grid()\n",
        "plt.plot()"
      ],
      "execution_count": 16,
      "outputs": [
        {
          "output_type": "execute_result",
          "data": {
            "text/plain": [
              "[]"
            ]
          },
          "metadata": {
            "tags": []
          },
          "execution_count": 16
        },
        {
          "output_type": "display_data",
          "data": {
            "image/png": "[encoded data removed]",
            "text/plain": [
              "<Figure size 432x288 with 1 Axes>"
            ]
          },
          "metadata": {
            "tags": [],
            "needs_background": "light"
          }
        }
      ]
    },
    {
      "cell_type": "code",
      "metadata": {
        "colab": {
          "base_uri": "https://localhost:8080/",
          "height": 284
        },
        "id": "hhX-jA5OKlf-",
        "outputId": "3f7c4eaf-c24d-42aa-8544-de1610d80df8"
      },
      "source": [
        "fig=plt.figure()\n",
        "ax=fig.add_subplot(111)\n",
        "ax.scatter(spotify_features_df['PC1'],spotify_features_df['PC2'],c=genre_labels,cmap='winter')"
      ],
      "execution_count": 17,
      "outputs": [
        {
          "output_type": "execute_result",
          "data": {
            "text/plain": [
              "<matplotlib.collections.PathCollection at 0x7fb1a9cdb898>"
            ]
          },
          "metadata": {
            "tags": []
          },
          "execution_count": 17
        },
        {
          "output_type": "display_data",
          "data": {
            "image/png": "[encoded data removed]",
            "text/plain": [
              "<Figure size 432x288 with 1 Axes>"
            ]
          },
          "metadata": {
            "tags": [],
            "needs_background": "light"
          }
        }
      ]
    },
    {
      "cell_type": "code",
      "metadata": {
        "id": "-CEZBLukLFoP"
      },
      "source": [
        "from mpl_toolkits.mplot3d import Axes3D"
      ],
      "execution_count": 18,
      "outputs": []
    },
    {
      "cell_type": "code",
      "metadata": {
        "colab": {
          "base_uri": "https://localhost:8080/",
          "height": 319
        },
        "id": "W80CYg_aLbRJ",
        "outputId": "7b3239fb-b7c1-444c-8058-75ac5d83c2f6"
      },
      "source": [
        "fig=plt.figure()\n",
        "ax=Axes3D(fig)\n",
        "surf=ax.scatter(spotify_features_df['PC1'],spotify_features_df['PC2'],spotify_features_df['PC3'],c=genre_labels,cmap='winter')\n",
        "ax.view_init(elev=50, azim=60)"
      ],
      "execution_count": 19,
      "outputs": [
        {
          "output_type": "display_data",
          "data": {
            "image/png": "[encoded data removed]",
            "text/plain": [
              "<Figure size 432x288 with 1 Axes>"
            ]
          },
          "metadata": {
            "tags": [],
            "needs_background": "light"
          }
        }
      ]
    },
    {
      "cell_type": "code",
      "metadata": {
        "id": "zOZ_Bfzqn1_s"
      },
      "source": [
        "spotify_features_df=spotify_features_df.iloc[:,:6]\n",
        "X_train,X_test,y_train,y_test=train_test_split(spotify_features_df,genre_labels,test_size=0.2)"
      ],
      "execution_count": 20,
      "outputs": []
    },
    {
      "cell_type": "code",
      "metadata": {
        "id": "UZtWQgPDGW1i"
      },
      "source": [
        "from sklearn.linear_model import SGDClassifier"
      ],
      "execution_count": 21,
      "outputs": []
    },
    {
      "cell_type": "code",
      "metadata": {
        "colab": {
          "base_uri": "https://localhost:8080/"
        },
        "id": "3yCHvCWFGddA",
        "outputId": "db595092-40b2-4713-c246-8c9fcda8751e"
      },
      "source": [
        "sgd_clf=SGDClassifier()\n",
        "sgd_clf.fit(X_train,y_train)"
      ],
      "execution_count": 22,
      "outputs": [
        {
          "output_type": "stream",
          "text": [
            "/usr/local/lib/python3.6/dist-packages/sklearn/utils/validation.py:760: DataConversionWarning: A column-vector y was passed when a 1d array was expected. Please change the shape of y to (n_samples, ), for example using ravel().\n",
            "  y = column_or_1d(y, warn=True)\n"
          ],
          "name": "stderr"
        },
        {
          "output_type": "execute_result",
          "data": {
            "text/plain": [
              "SGDClassifier(alpha=0.0001, average=False, class_weight=None,\n",
              "              early_stopping=False, epsilon=0.1, eta0=0.0, fit_intercept=True,\n",
              "              l1_ratio=0.15, learning_rate='optimal', loss='hinge',\n",
              "              max_iter=1000, n_iter_no_change=5, n_jobs=None, penalty='l2',\n",
              "              power_t=0.5, random_state=None, shuffle=True, tol=0.001,\n",
              "              validation_fraction=0.1, verbose=0, warm_start=False)"
            ]
          },
          "metadata": {
            "tags": []
          },
          "execution_count": 22
        }
      ]
    },
    {
      "cell_type": "code",
      "metadata": {
        "colab": {
          "base_uri": "https://localhost:8080/"
        },
        "id": "iKmtdjtmGqnP",
        "outputId": "8f6b680c-ac90-4870-ad0d-0ad2ddb5e9a2"
      },
      "source": [
        "sgd_clf.score(X_test,y_test)"
      ],
      "execution_count": 23,
      "outputs": [
        {
          "output_type": "execute_result",
          "data": {
            "text/plain": [
              "0.3848244888311074"
            ]
          },
          "metadata": {
            "tags": []
          },
          "execution_count": 23
        }
      ]
    },
    {
      "cell_type": "code",
      "metadata": {
        "id": "ouOVdYryGuUf"
      },
      "source": [
        "from sklearn.linear_model import LogisticRegression"
      ],
      "execution_count": 24,
      "outputs": []
    },
    {
      "cell_type": "code",
      "metadata": {
        "colab": {
          "base_uri": "https://localhost:8080/"
        },
        "id": "RgUcxizLIhru",
        "outputId": "67ab825f-4aa6-4070-a972-3b75013780b5"
      },
      "source": [
        "lr=LogisticRegression()\n",
        "lr.fit(X_train,y_train)"
      ],
      "execution_count": 25,
      "outputs": [
        {
          "output_type": "stream",
          "text": [
            "/usr/local/lib/python3.6/dist-packages/sklearn/utils/validation.py:760: DataConversionWarning: A column-vector y was passed when a 1d array was expected. Please change the shape of y to (n_samples, ), for example using ravel().\n",
            "  y = column_or_1d(y, warn=True)\n"
          ],
          "name": "stderr"
        },
        {
          "output_type": "execute_result",
          "data": {
            "text/plain": [
              "LogisticRegression(C=1.0, class_weight=None, dual=False, fit_intercept=True,\n",
              "                   intercept_scaling=1, l1_ratio=None, max_iter=100,\n",
              "                   multi_class='auto', n_jobs=None, penalty='l2',\n",
              "                   random_state=None, solver='lbfgs', tol=0.0001, verbose=0,\n",
              "                   warm_start=False)"
            ]
          },
          "metadata": {
            "tags": []
          },
          "execution_count": 25
        }
      ]
    },
    {
      "cell_type": "code",
      "metadata": {
        "colab": {
          "base_uri": "https://localhost:8080/"
        },
        "id": "CrT7tK1mImpZ",
        "outputId": "3f8bc816-3607-43fe-9145-c0b789f72d8f"
      },
      "source": [
        "lr.score(X_test,y_test)"
      ],
      "execution_count": 26,
      "outputs": [
        {
          "output_type": "execute_result",
          "data": {
            "text/plain": [
              "0.5245242879092306"
            ]
          },
          "metadata": {
            "tags": []
          },
          "execution_count": 26
        }
      ]
    },
    {
      "cell_type": "code",
      "metadata": {
        "id": "WM4Hb9NnJLcz"
      },
      "source": [
        "from sklearn.tree import DecisionTreeClassifier"
      ],
      "execution_count": 27,
      "outputs": []
    },
    {
      "cell_type": "code",
      "metadata": {
        "colab": {
          "base_uri": "https://localhost:8080/"
        },
        "id": "wiSOjbJFMwGt",
        "outputId": "c5092d74-b0b3-4ebe-9977-69d5401460d9"
      },
      "source": [
        "tree_clf=DecisionTreeClassifier()\n",
        "tree_clf.fit(X_train,y_train)"
      ],
      "execution_count": 28,
      "outputs": [
        {
          "output_type": "execute_result",
          "data": {
            "text/plain": [
              "DecisionTreeClassifier(ccp_alpha=0.0, class_weight=None, criterion='gini',\n",
              "                       max_depth=None, max_features=None, max_leaf_nodes=None,\n",
              "                       min_impurity_decrease=0.0, min_impurity_split=None,\n",
              "                       min_samples_leaf=1, min_samples_split=2,\n",
              "                       min_weight_fraction_leaf=0.0, presort='deprecated',\n",
              "                       random_state=None, splitter='best')"
            ]
          },
          "metadata": {
            "tags": []
          },
          "execution_count": 28
        }
      ]
    },
    {
      "cell_type": "code",
      "metadata": {
        "colab": {
          "base_uri": "https://localhost:8080/"
        },
        "id": "uceqKdgMNRB9",
        "outputId": "bd381cc5-bc08-4dbf-b26a-3fccf3ddb1ac"
      },
      "source": [
        "tree_clf.score(X_test,y_test)"
      ],
      "execution_count": 29,
      "outputs": [
        {
          "output_type": "execute_result",
          "data": {
            "text/plain": [
              "0.4878855927195367"
            ]
          },
          "metadata": {
            "tags": []
          },
          "execution_count": 29
        }
      ]
    }
  ]
}