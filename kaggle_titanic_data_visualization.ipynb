{
  "nbformat": 4,
  "nbformat_minor": 0,
  "metadata": {
    "colab": {
      "name": "kaggle_titanic_data_visualization.ipynb",
      "provenance": [],
      "collapsed_sections": [],
      "mount_file_id": "1A7b8GeKQuxtMMvlQfgbcOOQQEXPJkDAO",
      "authorship_tag": "ABX9TyOjwF4EXIOfTGpU49MksaKm",
      "include_colab_link": true
    },
    "kernelspec": {
      "name": "python3",
      "display_name": "Python 3"
    }
  },
  "cells": [
    {
      "cell_type": "markdown",
      "metadata": {
        "id": "view-in-github",
        "colab_type": "text"
      },
      "source": [
        "<a href=\"https://colab.research.google.com/github/yuki-tamaribuchi/kaggle_codes/blob/master/kaggle_titanic_data_visualization.ipynb\" target=\"_parent\"><img src=\"https://colab.research.google.com/assets/colab-badge.svg\" alt=\"Open In Colab\"/></a>"
      ]
    },
    {
      "cell_type": "code",
      "metadata": {
        "id": "ZqO9sh7KOOuA",
        "colab": {
          "base_uri": "https://localhost:8080/"
        },
        "outputId": "4ba61a42-cf0c-49c8-c4cd-1e8afb976263"
      },
      "source": [
        "!mkdir /root/.kaggle"
      ],
      "execution_count": 55,
      "outputs": [
        {
          "output_type": "stream",
          "text": [
            "mkdir: cannot create directory ‘/root/.kaggle’: File exists\n"
          ],
          "name": "stdout"
        }
      ]
    },
    {
      "cell_type": "code",
      "metadata": {
        "id": "d0CPXqFEhZlp"
      },
      "source": [
        "!cp drive/'My Drive'/kaggle.json /root/.kaggle/kaggle.json"
      ],
      "execution_count": 56,
      "outputs": []
    },
    {
      "cell_type": "code",
      "metadata": {
        "colab": {
          "base_uri": "https://localhost:8080/"
        },
        "id": "51Ljt9QlMcu2",
        "outputId": "a1d3faa8-64e2-4159-a33d-09276ed2a747"
      },
      "source": [
        "!kaggle competitions download -c titanic"
      ],
      "execution_count": 57,
      "outputs": [
        {
          "output_type": "stream",
          "text": [
            "Warning: Looks like you're using an outdated API Version, please consider updating (server 1.5.10 / client 1.5.4)\n",
            "gender_submission.csv: Skipping, found more recently modified local copy (use --force to force download)\n",
            "test.csv: Skipping, found more recently modified local copy (use --force to force download)\n",
            "train.csv: Skipping, found more recently modified local copy (use --force to force download)\n"
          ],
          "name": "stdout"
        }
      ]
    },
    {
      "cell_type": "code",
      "metadata": {
        "id": "pCPg7D0iOvBP"
      },
      "source": [
        "import numpy as np\n",
        "import pandas as pd\n",
        "import sklearn\n",
        "from sklearn.model_selection import train_test_split"
      ],
      "execution_count": 58,
      "outputs": []
    },
    {
      "cell_type": "code",
      "metadata": {
        "id": "JFmm8KTYO6Dn"
      },
      "source": [
        "train_df=pd.read_csv('train.csv')\n",
        "test_df=pd.read_csv('test.csv')"
      ],
      "execution_count": 59,
      "outputs": []
    },
    {
      "cell_type": "code",
      "metadata": {
        "colab": {
          "base_uri": "https://localhost:8080/",
          "height": 258
        },
        "id": "vgh7WttCPCRm",
        "outputId": "c00bfc85-d99c-415d-c965-25480435390d"
      },
      "source": [
        "train_df.head()"
      ],
      "execution_count": 60,
      "outputs": [
        {
          "output_type": "execute_result",
          "data": {
            "text/html": [
              "<div>\n",
              "<style scoped>\n",
              "    .dataframe tbody tr th:only-of-type {\n",
              "        vertical-align: middle;\n",
              "    }\n",
              "\n",
              "    .dataframe tbody tr th {\n",
              "        vertical-align: top;\n",
              "    }\n",
              "\n",
              "    .dataframe thead th {\n",
              "        text-align: right;\n",
              "    }\n",
              "</style>\n",
              "<table border=\"1\" class=\"dataframe\">\n",
              "  <thead>\n",
              "    <tr style=\"text-align: right;\">\n",
              "      <th></th>\n",
              "      <th>PassengerId</th>\n",
              "      <th>Survived</th>\n",
              "      <th>Pclass</th>\n",
              "      <th>Name</th>\n",
              "      <th>Sex</th>\n",
              "      <th>Age</th>\n",
              "      <th>SibSp</th>\n",
              "      <th>Parch</th>\n",
              "      <th>Ticket</th>\n",
              "      <th>Fare</th>\n",
              "      <th>Cabin</th>\n",
              "      <th>Embarked</th>\n",
              "    </tr>\n",
              "  </thead>\n",
              "  <tbody>\n",
              "    <tr>\n",
              "      <th>0</th>\n",
              "      <td>1</td>\n",
              "      <td>0</td>\n",
              "      <td>3</td>\n",
              "      <td>Braund, Mr. Owen Harris</td>\n",
              "      <td>male</td>\n",
              "      <td>22.0</td>\n",
              "      <td>1</td>\n",
              "      <td>0</td>\n",
              "      <td>A/5 21171</td>\n",
              "      <td>7.2500</td>\n",
              "      <td>NaN</td>\n",
              "      <td>S</td>\n",
              "    </tr>\n",
              "    <tr>\n",
              "      <th>1</th>\n",
              "      <td>2</td>\n",
              "      <td>1</td>\n",
              "      <td>1</td>\n",
              "      <td>Cumings, Mrs. John Bradley (Florence Briggs Th...</td>\n",
              "      <td>female</td>\n",
              "      <td>38.0</td>\n",
              "      <td>1</td>\n",
              "      <td>0</td>\n",
              "      <td>PC 17599</td>\n",
              "      <td>71.2833</td>\n",
              "      <td>C85</td>\n",
              "      <td>C</td>\n",
              "    </tr>\n",
              "    <tr>\n",
              "      <th>2</th>\n",
              "      <td>3</td>\n",
              "      <td>1</td>\n",
              "      <td>3</td>\n",
              "      <td>Heikkinen, Miss. Laina</td>\n",
              "      <td>female</td>\n",
              "      <td>26.0</td>\n",
              "      <td>0</td>\n",
              "      <td>0</td>\n",
              "      <td>STON/O2. 3101282</td>\n",
              "      <td>7.9250</td>\n",
              "      <td>NaN</td>\n",
              "      <td>S</td>\n",
              "    </tr>\n",
              "    <tr>\n",
              "      <th>3</th>\n",
              "      <td>4</td>\n",
              "      <td>1</td>\n",
              "      <td>1</td>\n",
              "      <td>Futrelle, Mrs. Jacques Heath (Lily May Peel)</td>\n",
              "      <td>female</td>\n",
              "      <td>35.0</td>\n",
              "      <td>1</td>\n",
              "      <td>0</td>\n",
              "      <td>113803</td>\n",
              "      <td>53.1000</td>\n",
              "      <td>C123</td>\n",
              "      <td>S</td>\n",
              "    </tr>\n",
              "    <tr>\n",
              "      <th>4</th>\n",
              "      <td>5</td>\n",
              "      <td>0</td>\n",
              "      <td>3</td>\n",
              "      <td>Allen, Mr. William Henry</td>\n",
              "      <td>male</td>\n",
              "      <td>35.0</td>\n",
              "      <td>0</td>\n",
              "      <td>0</td>\n",
              "      <td>373450</td>\n",
              "      <td>8.0500</td>\n",
              "      <td>NaN</td>\n",
              "      <td>S</td>\n",
              "    </tr>\n",
              "  </tbody>\n",
              "</table>\n",
              "</div>"
            ],
            "text/plain": [
              "   PassengerId  Survived  Pclass  ...     Fare Cabin  Embarked\n",
              "0            1         0       3  ...   7.2500   NaN         S\n",
              "1            2         1       1  ...  71.2833   C85         C\n",
              "2            3         1       3  ...   7.9250   NaN         S\n",
              "3            4         1       1  ...  53.1000  C123         S\n",
              "4            5         0       3  ...   8.0500   NaN         S\n",
              "\n",
              "[5 rows x 12 columns]"
            ]
          },
          "metadata": {
            "tags": []
          },
          "execution_count": 60
        }
      ]
    },
    {
      "cell_type": "code",
      "metadata": {
        "id": "h68isshAdJ7e"
      },
      "source": [
        "nulls=train_df.isnull().sum()"
      ],
      "execution_count": 61,
      "outputs": []
    },
    {
      "cell_type": "code",
      "metadata": {
        "colab": {
          "base_uri": "https://localhost:8080/"
        },
        "id": "jbn0XwuEdUUd",
        "outputId": "f3d72d96-efd7-40dc-9618-4c4399957421"
      },
      "source": [
        "nulls"
      ],
      "execution_count": 62,
      "outputs": [
        {
          "output_type": "execute_result",
          "data": {
            "text/plain": [
              "PassengerId      0\n",
              "Survived         0\n",
              "Pclass           0\n",
              "Name             0\n",
              "Sex              0\n",
              "Age            177\n",
              "SibSp            0\n",
              "Parch            0\n",
              "Ticket           0\n",
              "Fare             0\n",
              "Cabin          687\n",
              "Embarked         2\n",
              "dtype: int64"
            ]
          },
          "metadata": {
            "tags": []
          },
          "execution_count": 62
        }
      ]
    },
    {
      "cell_type": "code",
      "metadata": {
        "id": "2fKrnAhqPE_K"
      },
      "source": [
        "sex_dummy=pd.get_dummies(train_df['Sex'])\n",
        "pclass_dummy=pd.get_dummies(train_df['Pclass'],prefix='Pclass')\n",
        "embarked_dummy=pd.get_dummies(train_df['Embarked'],prefix='Emb')\n",
        "\n",
        "train_df=train_df.drop(['Ticket','Cabin','Name','Sex','Pclass','Embarked','Cabin'],axis=1)\n",
        "train_df=pd.concat([train_df,sex_dummy,pclass_dummy,embarked_dummy],axis=1)\n",
        "\n",
        "train_df['Age']=train_df['Age'].fillna(train_df['Age'].mean())\n",
        "\n",
        "train_df.head()\n",
        "\n",
        "y=train_df['Survived']\n",
        "X=train_df.drop(['Survived'],axis=1)"
      ],
      "execution_count": 63,
      "outputs": []
    },
    {
      "cell_type": "code",
      "metadata": {
        "id": "2BXtLzckgrwC"
      },
      "source": [
        "nulls=train_df.isnull().sum()"
      ],
      "execution_count": 64,
      "outputs": []
    },
    {
      "cell_type": "code",
      "metadata": {
        "colab": {
          "base_uri": "https://localhost:8080/"
        },
        "id": "kQs-z85Vgsmj",
        "outputId": "3870b5c4-8956-43ef-870e-da56e1fa13c3"
      },
      "source": [
        "nulls"
      ],
      "execution_count": 65,
      "outputs": [
        {
          "output_type": "execute_result",
          "data": {
            "text/plain": [
              "PassengerId    0\n",
              "Survived       0\n",
              "Age            0\n",
              "SibSp          0\n",
              "Parch          0\n",
              "Fare           0\n",
              "female         0\n",
              "male           0\n",
              "Pclass_1       0\n",
              "Pclass_2       0\n",
              "Pclass_3       0\n",
              "Emb_C          0\n",
              "Emb_Q          0\n",
              "Emb_S          0\n",
              "dtype: int64"
            ]
          },
          "metadata": {
            "tags": []
          },
          "execution_count": 65
        }
      ]
    },
    {
      "cell_type": "code",
      "metadata": {
        "id": "CGv_FGbcdr0P"
      },
      "source": [
        "X_train,X_test,y_train,y_test=train_test_split(X,y)"
      ],
      "execution_count": 66,
      "outputs": []
    },
    {
      "cell_type": "code",
      "metadata": {
        "id": "eIFAyJ5PhyYG"
      },
      "source": [
        "nulls=test_df.isnull().sum()"
      ],
      "execution_count": 67,
      "outputs": []
    },
    {
      "cell_type": "code",
      "metadata": {
        "colab": {
          "base_uri": "https://localhost:8080/"
        },
        "id": "oCJauLKTh1j_",
        "outputId": "209eb3fa-f545-47c4-a804-fca1aa8fe84c"
      },
      "source": [
        "nulls"
      ],
      "execution_count": 68,
      "outputs": [
        {
          "output_type": "execute_result",
          "data": {
            "text/plain": [
              "PassengerId      0\n",
              "Pclass           0\n",
              "Name             0\n",
              "Sex              0\n",
              "Age             86\n",
              "SibSp            0\n",
              "Parch            0\n",
              "Ticket           0\n",
              "Fare             1\n",
              "Cabin          327\n",
              "Embarked         0\n",
              "dtype: int64"
            ]
          },
          "metadata": {
            "tags": []
          },
          "execution_count": 68
        }
      ]
    },
    {
      "cell_type": "code",
      "metadata": {
        "id": "1_7TkelNZjUv"
      },
      "source": [
        "sex_dummy=pd.get_dummies(test_df['Sex'])\n",
        "pclass_dummy=pd.get_dummies(test_df['Pclass'],prefix='Pclass')\n",
        "embarked_dummy=pd.get_dummies(test_df['Embarked'],prefix='Emb')\n",
        "\n",
        "test_df=test_df.drop(['Ticket','Cabin','Name','Sex','Pclass','Embarked','Cabin'],axis=1)\n",
        "test_df=pd.concat([test_df,sex_dummy,pclass_dummy,embarked_dummy],axis=1)\n",
        "\n",
        "test_df['Age']=test_df['Age'].fillna(test_df['Age'].mean())\n",
        "test_df['Fare']=test_df['Fare'].fillna(test_df['Fare'].mean())\n",
        "\n",
        "test_df.head()\n",
        "\n",
        "X_test=test_df"
      ],
      "execution_count": 69,
      "outputs": []
    },
    {
      "cell_type": "code",
      "metadata": {
        "colab": {
          "base_uri": "https://localhost:8080/",
          "height": 206
        },
        "id": "1n-ON5yliadO",
        "outputId": "d7e3b708-203f-47f0-c35b-95d2281cf1ba"
      },
      "source": [
        "X.head()"
      ],
      "execution_count": 70,
      "outputs": [
        {
          "output_type": "execute_result",
          "data": {
            "text/html": [
              "<div>\n",
              "<style scoped>\n",
              "    .dataframe tbody tr th:only-of-type {\n",
              "        vertical-align: middle;\n",
              "    }\n",
              "\n",
              "    .dataframe tbody tr th {\n",
              "        vertical-align: top;\n",
              "    }\n",
              "\n",
              "    .dataframe thead th {\n",
              "        text-align: right;\n",
              "    }\n",
              "</style>\n",
              "<table border=\"1\" class=\"dataframe\">\n",
              "  <thead>\n",
              "    <tr style=\"text-align: right;\">\n",
              "      <th></th>\n",
              "      <th>PassengerId</th>\n",
              "      <th>Age</th>\n",
              "      <th>SibSp</th>\n",
              "      <th>Parch</th>\n",
              "      <th>Fare</th>\n",
              "      <th>female</th>\n",
              "      <th>male</th>\n",
              "      <th>Pclass_1</th>\n",
              "      <th>Pclass_2</th>\n",
              "      <th>Pclass_3</th>\n",
              "      <th>Emb_C</th>\n",
              "      <th>Emb_Q</th>\n",
              "      <th>Emb_S</th>\n",
              "    </tr>\n",
              "  </thead>\n",
              "  <tbody>\n",
              "    <tr>\n",
              "      <th>0</th>\n",
              "      <td>1</td>\n",
              "      <td>22.0</td>\n",
              "      <td>1</td>\n",
              "      <td>0</td>\n",
              "      <td>7.2500</td>\n",
              "      <td>0</td>\n",
              "      <td>1</td>\n",
              "      <td>0</td>\n",
              "      <td>0</td>\n",
              "      <td>1</td>\n",
              "      <td>0</td>\n",
              "      <td>0</td>\n",
              "      <td>1</td>\n",
              "    </tr>\n",
              "    <tr>\n",
              "      <th>1</th>\n",
              "      <td>2</td>\n",
              "      <td>38.0</td>\n",
              "      <td>1</td>\n",
              "      <td>0</td>\n",
              "      <td>71.2833</td>\n",
              "      <td>1</td>\n",
              "      <td>0</td>\n",
              "      <td>1</td>\n",
              "      <td>0</td>\n",
              "      <td>0</td>\n",
              "      <td>1</td>\n",
              "      <td>0</td>\n",
              "      <td>0</td>\n",
              "    </tr>\n",
              "    <tr>\n",
              "      <th>2</th>\n",
              "      <td>3</td>\n",
              "      <td>26.0</td>\n",
              "      <td>0</td>\n",
              "      <td>0</td>\n",
              "      <td>7.9250</td>\n",
              "      <td>1</td>\n",
              "      <td>0</td>\n",
              "      <td>0</td>\n",
              "      <td>0</td>\n",
              "      <td>1</td>\n",
              "      <td>0</td>\n",
              "      <td>0</td>\n",
              "      <td>1</td>\n",
              "    </tr>\n",
              "    <tr>\n",
              "      <th>3</th>\n",
              "      <td>4</td>\n",
              "      <td>35.0</td>\n",
              "      <td>1</td>\n",
              "      <td>0</td>\n",
              "      <td>53.1000</td>\n",
              "      <td>1</td>\n",
              "      <td>0</td>\n",
              "      <td>1</td>\n",
              "      <td>0</td>\n",
              "      <td>0</td>\n",
              "      <td>0</td>\n",
              "      <td>0</td>\n",
              "      <td>1</td>\n",
              "    </tr>\n",
              "    <tr>\n",
              "      <th>4</th>\n",
              "      <td>5</td>\n",
              "      <td>35.0</td>\n",
              "      <td>0</td>\n",
              "      <td>0</td>\n",
              "      <td>8.0500</td>\n",
              "      <td>0</td>\n",
              "      <td>1</td>\n",
              "      <td>0</td>\n",
              "      <td>0</td>\n",
              "      <td>1</td>\n",
              "      <td>0</td>\n",
              "      <td>0</td>\n",
              "      <td>1</td>\n",
              "    </tr>\n",
              "  </tbody>\n",
              "</table>\n",
              "</div>"
            ],
            "text/plain": [
              "   PassengerId   Age  SibSp  Parch  ...  Pclass_3  Emb_C  Emb_Q  Emb_S\n",
              "0            1  22.0      1      0  ...         1      0      0      1\n",
              "1            2  38.0      1      0  ...         0      1      0      0\n",
              "2            3  26.0      0      0  ...         1      0      0      1\n",
              "3            4  35.0      1      0  ...         0      0      0      1\n",
              "4            5  35.0      0      0  ...         1      0      0      1\n",
              "\n",
              "[5 rows x 13 columns]"
            ]
          },
          "metadata": {
            "tags": []
          },
          "execution_count": 70
        }
      ]
    },
    {
      "cell_type": "code",
      "metadata": {
        "id": "BaQnF3BXgzvK"
      },
      "source": [
        "import matplotlib.pyplot as plt\n",
        "import seaborn as sns"
      ],
      "execution_count": 71,
      "outputs": []
    },
    {
      "cell_type": "code",
      "metadata": {
        "colab": {
          "base_uri": "https://localhost:8080/"
        },
        "id": "Hqfmisg7iVLo",
        "outputId": "cc17d5bf-12be-4d86-e349-2503d26039f0"
      },
      "source": [
        "corr_matrix=train_df.corr()\n",
        "print(corr_matrix)"
      ],
      "execution_count": 75,
      "outputs": [
        {
          "output_type": "stream",
          "text": [
            "             PassengerId  Survived       Age  ...     Emb_C     Emb_Q     Emb_S\n",
            "PassengerId     1.000000 -0.005007  0.033207  ... -0.001205 -0.033606  0.022148\n",
            "Survived       -0.005007  1.000000 -0.069809  ...  0.168240  0.003650 -0.155660\n",
            "Age             0.033207 -0.069809  1.000000  ...  0.032024 -0.013855 -0.027121\n",
            "SibSp          -0.057527 -0.035322 -0.232625  ... -0.059528 -0.026354  0.070941\n",
            "Parch          -0.001652  0.081629 -0.179191  ... -0.011069 -0.081228  0.063036\n",
            "Fare            0.012658  0.257307  0.091566  ...  0.269335 -0.117216 -0.166603\n",
            "female         -0.042939  0.543351 -0.084153  ...  0.082853  0.074115 -0.125722\n",
            "male            0.042939 -0.543351  0.084153  ... -0.082853 -0.074115  0.125722\n",
            "Pclass_1        0.034303  0.285904  0.319916  ...  0.296423 -0.155342 -0.170379\n",
            "Pclass_2       -0.000086  0.093349  0.006589  ... -0.125416 -0.127301  0.192061\n",
            "Pclass_3       -0.029486 -0.322308 -0.281004  ... -0.153329  0.237449 -0.009511\n",
            "Emb_C          -0.001205  0.168240  0.032024  ...  1.000000 -0.148258 -0.778359\n",
            "Emb_Q          -0.033606  0.003650 -0.013855  ... -0.148258  1.000000 -0.496624\n",
            "Emb_S           0.022148 -0.155660 -0.027121  ... -0.778359 -0.496624  1.000000\n",
            "\n",
            "[14 rows x 14 columns]\n"
          ],
          "name": "stdout"
        }
      ]
    },
    {
      "cell_type": "code",
      "metadata": {
        "colab": {
          "base_uri": "https://localhost:8080/",
          "height": 339
        },
        "id": "1L03MmhauxSJ",
        "outputId": "1a7a370d-a534-4cd8-ea5e-74702fa9870c"
      },
      "source": [
        "sns.heatmap(corr_matrix,\n",
        "            square=True,\n",
        "            xticklabels=corr_matrix.columns.values,\n",
        "            yticklabels=corr_matrix.columns.values)"
      ],
      "execution_count": 76,
      "outputs": [
        {
          "output_type": "execute_result",
          "data": {
            "text/plain": [
              "<matplotlib.axes._subplots.AxesSubplot at 0x7ffa3e5e9b00>"
            ]
          },
          "metadata": {
            "tags": []
          },
          "execution_count": 76
        },
        {
          "output_type": "display_data",
          "data": {
            "image/png": "[encoded data removed]",
            "text/plain": [
              "<Figure size 432x288 with 2 Axes>"
            ]
          },
          "metadata": {
            "tags": [],
            "needs_background": "light"
          }
        }
      ]
    },
    {
      "cell_type": "code",
      "metadata": {
        "colab": {
          "base_uri": "https://localhost:8080/",
          "height": 340
        },
        "id": "JgUGyqvfvFMa",
        "outputId": "ea84c84f-0274-4b4c-83fe-25ef70e6104e"
      },
      "source": [
        "corr_y=pd.DataFrame({'features':train_df.columns,'corr_y':corr_matrix['Survived']},index=None)\n",
        "corr_y=corr_y.reset_index(drop=True)\n",
        "corr_y.style.background_gradient()"
      ],
      "execution_count": 79,
      "outputs": [
        {
          "output_type": "execute_result",
          "data": {
            "text/html": [
              "<style  type=\"text/css\" >\n",
              "#T_f46e1104_5d3d_11eb_afaf_0242ac1c0002row0_col1{\n",
              "            background-color:  #afc1dd;\n",
              "            color:  #000000;\n",
              "        }#T_f46e1104_5d3d_11eb_afaf_0242ac1c0002row1_col1{\n",
              "            background-color:  #023858;\n",
              "            color:  #f1f1f1;\n",
              "        }#T_f46e1104_5d3d_11eb_afaf_0242ac1c0002row2_col1{\n",
              "            background-color:  #bdc8e1;\n",
              "            color:  #000000;\n",
              "        }#T_f46e1104_5d3d_11eb_afaf_0242ac1c0002row3_col1{\n",
              "            background-color:  #b5c4df;\n",
              "            color:  #000000;\n",
              "        }#T_f46e1104_5d3d_11eb_afaf_0242ac1c0002row4_col1{\n",
              "            background-color:  #9ab8d8;\n",
              "            color:  #000000;\n",
              "        }#T_f46e1104_5d3d_11eb_afaf_0242ac1c0002row5_col1{\n",
              "            background-color:  #6ba5cd;\n",
              "            color:  #000000;\n",
              "        }#T_f46e1104_5d3d_11eb_afaf_0242ac1c0002row6_col1{\n",
              "            background-color:  #167bb6;\n",
              "            color:  #000000;\n",
              "        }#T_f46e1104_5d3d_11eb_afaf_0242ac1c0002row7_col1{\n",
              "            background-color:  #fff7fb;\n",
              "            color:  #000000;\n",
              "        }#T_f46e1104_5d3d_11eb_afaf_0242ac1c0002row8_col1{\n",
              "            background-color:  #62a2cb;\n",
              "            color:  #000000;\n",
              "        }#T_f46e1104_5d3d_11eb_afaf_0242ac1c0002row9_col1{\n",
              "            background-color:  #97b7d7;\n",
              "            color:  #000000;\n",
              "        }#T_f46e1104_5d3d_11eb_afaf_0242ac1c0002row10_col1{\n",
              "            background-color:  #e8e4f0;\n",
              "            color:  #000000;\n",
              "        }#T_f46e1104_5d3d_11eb_afaf_0242ac1c0002row11_col1{\n",
              "            background-color:  #83afd3;\n",
              "            color:  #000000;\n",
              "        }#T_f46e1104_5d3d_11eb_afaf_0242ac1c0002row12_col1{\n",
              "            background-color:  #adc1dd;\n",
              "            color:  #000000;\n",
              "        }#T_f46e1104_5d3d_11eb_afaf_0242ac1c0002row13_col1{\n",
              "            background-color:  #d0d1e6;\n",
              "            color:  #000000;\n",
              "        }</style><table id=\"T_f46e1104_5d3d_11eb_afaf_0242ac1c0002\" ><thead>    <tr>        <th class=\"blank level0\" ></th>        <th class=\"col_heading level0 col0\" >features</th>        <th class=\"col_heading level0 col1\" >corr_y</th>    </tr></thead><tbody>\n",
              "                <tr>\n",
              "                        <th id=\"T_f46e1104_5d3d_11eb_afaf_0242ac1c0002level0_row0\" class=\"row_heading level0 row0\" >0</th>\n",
              "                        <td id=\"T_f46e1104_5d3d_11eb_afaf_0242ac1c0002row0_col0\" class=\"data row0 col0\" >PassengerId</td>\n",
              "                        <td id=\"T_f46e1104_5d3d_11eb_afaf_0242ac1c0002row0_col1\" class=\"data row0 col1\" >-0.005007</td>\n",
              "            </tr>\n",
              "            <tr>\n",
              "                        <th id=\"T_f46e1104_5d3d_11eb_afaf_0242ac1c0002level0_row1\" class=\"row_heading level0 row1\" >1</th>\n",
              "                        <td id=\"T_f46e1104_5d3d_11eb_afaf_0242ac1c0002row1_col0\" class=\"data row1 col0\" >Survived</td>\n",
              "                        <td id=\"T_f46e1104_5d3d_11eb_afaf_0242ac1c0002row1_col1\" class=\"data row1 col1\" >1.000000</td>\n",
              "            </tr>\n",
              "            <tr>\n",
              "                        <th id=\"T_f46e1104_5d3d_11eb_afaf_0242ac1c0002level0_row2\" class=\"row_heading level0 row2\" >2</th>\n",
              "                        <td id=\"T_f46e1104_5d3d_11eb_afaf_0242ac1c0002row2_col0\" class=\"data row2 col0\" >Age</td>\n",
              "                        <td id=\"T_f46e1104_5d3d_11eb_afaf_0242ac1c0002row2_col1\" class=\"data row2 col1\" >-0.069809</td>\n",
              "            </tr>\n",
              "            <tr>\n",
              "                        <th id=\"T_f46e1104_5d3d_11eb_afaf_0242ac1c0002level0_row3\" class=\"row_heading level0 row3\" >3</th>\n",
              "                        <td id=\"T_f46e1104_5d3d_11eb_afaf_0242ac1c0002row3_col0\" class=\"data row3 col0\" >SibSp</td>\n",
              "                        <td id=\"T_f46e1104_5d3d_11eb_afaf_0242ac1c0002row3_col1\" class=\"data row3 col1\" >-0.035322</td>\n",
              "            </tr>\n",
              "            <tr>\n",
              "                        <th id=\"T_f46e1104_5d3d_11eb_afaf_0242ac1c0002level0_row4\" class=\"row_heading level0 row4\" >4</th>\n",
              "                        <td id=\"T_f46e1104_5d3d_11eb_afaf_0242ac1c0002row4_col0\" class=\"data row4 col0\" >Parch</td>\n",
              "                        <td id=\"T_f46e1104_5d3d_11eb_afaf_0242ac1c0002row4_col1\" class=\"data row4 col1\" >0.081629</td>\n",
              "            </tr>\n",
              "            <tr>\n",
              "                        <th id=\"T_f46e1104_5d3d_11eb_afaf_0242ac1c0002level0_row5\" class=\"row_heading level0 row5\" >5</th>\n",
              "                        <td id=\"T_f46e1104_5d3d_11eb_afaf_0242ac1c0002row5_col0\" class=\"data row5 col0\" >Fare</td>\n",
              "                        <td id=\"T_f46e1104_5d3d_11eb_afaf_0242ac1c0002row5_col1\" class=\"data row5 col1\" >0.257307</td>\n",
              "            </tr>\n",
              "            <tr>\n",
              "                        <th id=\"T_f46e1104_5d3d_11eb_afaf_0242ac1c0002level0_row6\" class=\"row_heading level0 row6\" >6</th>\n",
              "                        <td id=\"T_f46e1104_5d3d_11eb_afaf_0242ac1c0002row6_col0\" class=\"data row6 col0\" >female</td>\n",
              "                        <td id=\"T_f46e1104_5d3d_11eb_afaf_0242ac1c0002row6_col1\" class=\"data row6 col1\" >0.543351</td>\n",
              "            </tr>\n",
              "            <tr>\n",
              "                        <th id=\"T_f46e1104_5d3d_11eb_afaf_0242ac1c0002level0_row7\" class=\"row_heading level0 row7\" >7</th>\n",
              "                        <td id=\"T_f46e1104_5d3d_11eb_afaf_0242ac1c0002row7_col0\" class=\"data row7 col0\" >male</td>\n",
              "                        <td id=\"T_f46e1104_5d3d_11eb_afaf_0242ac1c0002row7_col1\" class=\"data row7 col1\" >-0.543351</td>\n",
              "            </tr>\n",
              "            <tr>\n",
              "                        <th id=\"T_f46e1104_5d3d_11eb_afaf_0242ac1c0002level0_row8\" class=\"row_heading level0 row8\" >8</th>\n",
              "                        <td id=\"T_f46e1104_5d3d_11eb_afaf_0242ac1c0002row8_col0\" class=\"data row8 col0\" >Pclass_1</td>\n",
              "                        <td id=\"T_f46e1104_5d3d_11eb_afaf_0242ac1c0002row8_col1\" class=\"data row8 col1\" >0.285904</td>\n",
              "            </tr>\n",
              "            <tr>\n",
              "                        <th id=\"T_f46e1104_5d3d_11eb_afaf_0242ac1c0002level0_row9\" class=\"row_heading level0 row9\" >9</th>\n",
              "                        <td id=\"T_f46e1104_5d3d_11eb_afaf_0242ac1c0002row9_col0\" class=\"data row9 col0\" >Pclass_2</td>\n",
              "                        <td id=\"T_f46e1104_5d3d_11eb_afaf_0242ac1c0002row9_col1\" class=\"data row9 col1\" >0.093349</td>\n",
              "            </tr>\n",
              "            <tr>\n",
              "                        <th id=\"T_f46e1104_5d3d_11eb_afaf_0242ac1c0002level0_row10\" class=\"row_heading level0 row10\" >10</th>\n",
              "                        <td id=\"T_f46e1104_5d3d_11eb_afaf_0242ac1c0002row10_col0\" class=\"data row10 col0\" >Pclass_3</td>\n",
              "                        <td id=\"T_f46e1104_5d3d_11eb_afaf_0242ac1c0002row10_col1\" class=\"data row10 col1\" >-0.322308</td>\n",
              "            </tr>\n",
              "            <tr>\n",
              "                        <th id=\"T_f46e1104_5d3d_11eb_afaf_0242ac1c0002level0_row11\" class=\"row_heading level0 row11\" >11</th>\n",
              "                        <td id=\"T_f46e1104_5d3d_11eb_afaf_0242ac1c0002row11_col0\" class=\"data row11 col0\" >Emb_C</td>\n",
              "                        <td id=\"T_f46e1104_5d3d_11eb_afaf_0242ac1c0002row11_col1\" class=\"data row11 col1\" >0.168240</td>\n",
              "            </tr>\n",
              "            <tr>\n",
              "                        <th id=\"T_f46e1104_5d3d_11eb_afaf_0242ac1c0002level0_row12\" class=\"row_heading level0 row12\" >12</th>\n",
              "                        <td id=\"T_f46e1104_5d3d_11eb_afaf_0242ac1c0002row12_col0\" class=\"data row12 col0\" >Emb_Q</td>\n",
              "                        <td id=\"T_f46e1104_5d3d_11eb_afaf_0242ac1c0002row12_col1\" class=\"data row12 col1\" >0.003650</td>\n",
              "            </tr>\n",
              "            <tr>\n",
              "                        <th id=\"T_f46e1104_5d3d_11eb_afaf_0242ac1c0002level0_row13\" class=\"row_heading level0 row13\" >13</th>\n",
              "                        <td id=\"T_f46e1104_5d3d_11eb_afaf_0242ac1c0002row13_col0\" class=\"data row13 col0\" >Emb_S</td>\n",
              "                        <td id=\"T_f46e1104_5d3d_11eb_afaf_0242ac1c0002row13_col1\" class=\"data row13 col1\" >-0.155660</td>\n",
              "            </tr>\n",
              "    </tbody></table>"
            ],
            "text/plain": [
              "<pandas.io.formats.style.Styler at 0x7ffa3de7a518>"
            ]
          },
          "metadata": {
            "tags": []
          },
          "execution_count": 79
        }
      ]
    },
    {
      "cell_type": "code",
      "metadata": {
        "colab": {
          "base_uri": "https://localhost:8080/",
          "height": 303
        },
        "id": "OeJwv_GtxOCB",
        "outputId": "0c421215-4537-4984-8e0e-cfdb5ea20ac7"
      },
      "source": [
        "select_cols=corr_y[corr_y['corr_y'].abs()>0.3]\n",
        "print(select_cols)\n",
        "\n",
        "select_cols=list(select_cols['features'])\n",
        "\n",
        "train_df_new=train_df.loc[:,select_cols]\n",
        "train_df_new.head()"
      ],
      "execution_count": 83,
      "outputs": [
        {
          "output_type": "stream",
          "text": [
            "    features    corr_y\n",
            "1   Survived  1.000000\n",
            "6     female  0.543351\n",
            "7       male -0.543351\n",
            "10  Pclass_3 -0.322308\n"
          ],
          "name": "stdout"
        },
        {
          "output_type": "execute_result",
          "data": {
            "text/html": [
              "<div>\n",
              "<style scoped>\n",
              "    .dataframe tbody tr th:only-of-type {\n",
              "        vertical-align: middle;\n",
              "    }\n",
              "\n",
              "    .dataframe tbody tr th {\n",
              "        vertical-align: top;\n",
              "    }\n",
              "\n",
              "    .dataframe thead th {\n",
              "        text-align: right;\n",
              "    }\n",
              "</style>\n",
              "<table border=\"1\" class=\"dataframe\">\n",
              "  <thead>\n",
              "    <tr style=\"text-align: right;\">\n",
              "      <th></th>\n",
              "      <th>Survived</th>\n",
              "      <th>female</th>\n",
              "      <th>male</th>\n",
              "      <th>Pclass_3</th>\n",
              "    </tr>\n",
              "  </thead>\n",
              "  <tbody>\n",
              "    <tr>\n",
              "      <th>0</th>\n",
              "      <td>0</td>\n",
              "      <td>0</td>\n",
              "      <td>1</td>\n",
              "      <td>1</td>\n",
              "    </tr>\n",
              "    <tr>\n",
              "      <th>1</th>\n",
              "      <td>1</td>\n",
              "      <td>1</td>\n",
              "      <td>0</td>\n",
              "      <td>0</td>\n",
              "    </tr>\n",
              "    <tr>\n",
              "      <th>2</th>\n",
              "      <td>1</td>\n",
              "      <td>1</td>\n",
              "      <td>0</td>\n",
              "      <td>1</td>\n",
              "    </tr>\n",
              "    <tr>\n",
              "      <th>3</th>\n",
              "      <td>1</td>\n",
              "      <td>1</td>\n",
              "      <td>0</td>\n",
              "      <td>0</td>\n",
              "    </tr>\n",
              "    <tr>\n",
              "      <th>4</th>\n",
              "      <td>0</td>\n",
              "      <td>0</td>\n",
              "      <td>1</td>\n",
              "      <td>1</td>\n",
              "    </tr>\n",
              "  </tbody>\n",
              "</table>\n",
              "</div>"
            ],
            "text/plain": [
              "   Survived  female  male  Pclass_3\n",
              "0         0       0     1         1\n",
              "1         1       1     0         0\n",
              "2         1       1     0         1\n",
              "3         1       1     0         0\n",
              "4         0       0     1         1"
            ]
          },
          "metadata": {
            "tags": []
          },
          "execution_count": 83
        }
      ]
    },
    {
      "cell_type": "code",
      "metadata": {
        "id": "O2uyHmDfyENZ"
      },
      "source": [
        ""
      ],
      "execution_count": null,
      "outputs": []
    }
  ]
}